{
 "cells": [
  {
   "cell_type": "code",
   "execution_count": 19,
   "metadata": {
    "slideshow": {
     "slide_type": "skip"
    }
   },
   "outputs": [
    {
     "name": "stdout",
     "output_type": "stream",
     "text": [
      "Python: 3.6.7 (default, Feb 28 2019, 07:28:18) [MSC v.1900 64 bit (AMD64)]\n",
      "\n",
      "Currrent dir: C:\\Users\\catch\\Documents\\GitHub\\Geocoders_presentation\\notebooks\n",
      "Path added to sys.path: C:\\Users\\catch\\Documents\\GitHub\\Geocoders_presentation\n"
     ]
    },
    {
     "data": {
      "text/html": [
       "<style>.container { width:98% !important; }</style>"
      ],
      "text/plain": [
       "<IPython.core.display.HTML object>"
      ]
     },
     "metadata": {},
     "output_type": "display_data"
    },
    {
     "name": "stdout",
     "output_type": "stream",
     "text": [
      "The autoreload extension is already loaded. To reload it, use:\n",
      "  %reload_ext autoreload\n"
     ]
    }
   ],
   "source": [
    "# %load nb_cell0.py\n",
    "import os\n",
    "import sys\n",
    "\n",
    "print('Python: {}\\n'.format(sys.version))\n",
    "print('Currrent dir:', os.path.abspath(os.path.curdir))\n",
    "\n",
    "def add_to_sys_path(this_path, up=False):\n",
    "    \"\"\"\n",
    "    Prepend this_path to sys.path.\n",
    "    If up=True, path refers to parent folder (1 level up).\n",
    "    \"\"\"\n",
    "    for p in sys.path:\n",
    "        p = os.path.abspath(p)\n",
    "    if up:\n",
    "        newp = os.path.abspath(os.path.join(this_path, '..'))\n",
    "    else:\n",
    "        newp = os.path.abspath(this_path)\n",
    "        \n",
    "    if this_path not in (p, p + os.sep):\n",
    "        print('Path added to sys.path: {}'.format(newp))\n",
    "        sys.path.insert(0, newp)\n",
    "        \n",
    "# if notebook inside another folder, eg ./notebooks:\n",
    "up =  os.path.abspath(os.path.curdir).endswith('notebooks')\n",
    "add_to_sys_path(os.path.curdir, up)\n",
    "\n",
    "import numpy as np\n",
    "import pandas as pd\n",
    "pd.set_option(\"display.max_colwidth\", 200)\n",
    "\n",
    "from pprint import pprint as pp\n",
    "\n",
    "from IPython.core.interactiveshell import InteractiveShell\n",
    "InteractiveShell.ast_node_interactivity = \"all\"\n",
    "from IPython.display import HTML, Markdown, IFrame\n",
    "\n",
    "display(HTML(\"<style>.container { width:98% !important; }</style>\"))\n",
    "\n",
    "def new_section(title):\n",
    "    style = \"text-align:center;background:#c2d3ef;padding:20px;color:#ffffff;font-size:3em;width:98%\"\n",
    "    return HTML('<div style=\"{}\">{}</div>'.format(style, title))\n",
    "\n",
    "%load_ext autoreload\n",
    "%autoreload 2\n"
   ]
  },
  {
   "cell_type": "code",
   "execution_count": 20,
   "metadata": {
    "slideshow": {
     "slide_type": "skip"
    }
   },
   "outputs": [],
   "source": [
    "# project imports\n",
    "from GeocodersComparison import (comparison as GeoComp4,\n",
    "                                 inspect_geocoders,\n",
    "                                 gc4utils,\n",
    "                                 gc4settings)\n",
    "\n",
    "\n",
    "# Directories:\n",
    "dir_geo = GeoComp4.DIR_GEO\n",
    "dir_html = GeoComp4.DIR_HTML\n",
    "dir_img = GeoComp4.DIR_IMG\n",
    "dir_rpt = GeoComp4.DIR_RPT\n",
    "\n",
    "dir_raw = os.path.join(dir_geo, 'rawjson')"
   ]
  },
  {
   "cell_type": "code",
   "execution_count": 22,
   "metadata": {
    "slideshow": {
     "slide_type": "skip"
    }
   },
   "outputs": [
    {
     "name": "stdout",
     "output_type": "stream",
     "text": [
      "\n",
      "List of query strings that will be passed to each geocoder:\n",
      "0. 'New York City, NY, USA'\n",
      "1. \"Cleopatra's needle, Central Park, New York, NY, USA\"\n",
      "2. 'Bronx county, NY, USA'\n",
      "3. 'Kings county, NY, USA'\n",
      "4. 'New York county, NY, USA'\n",
      "5. 'Queens county, NY, USA'\n",
      "6. 'Richmond county, NY, USA'\n",
      "7. 'Boston, MA, USA'\n",
      "\n",
      "Geocoders compared:\n",
      " ['Nominatim', 'GoogleV3', 'ArcGis', 'AzureMaps']\n"
     ]
    }
   ],
   "source": [
    "# Query list:\n",
    "# Each query list string is passed to the geocoding function.\n",
    "query_lst = GeoComp4.query_lst\n",
    "print(\"\\nList of query strings that will be passed to each geocoder:\")\n",
    "for i, q in enumerate(query_lst):\n",
    "    print('{}. {!r}'.format(i, q))\n",
    "\n",
    "# Geoloders in the comparison:\n",
    "colors_dict = GeoComp4.colors_dict\n",
    "\n",
    "geocs = GeoComp4.geocs\n",
    "print(\"\\nGeocoders compared:\\n\", geocs)\n",
    "\n",
    "def show_map_components():\n",
    "    fname_boston_rel = os.path.relpath(os.path.join(dir_html, 'Boston.html'))\n",
    "    return HTML(\"\"\"<h1>What's in a map?</h1>\n",
    "        <div float=\"top\" width=\"100%\">\n",
    "          <iframe src=\"{}\" width=\"700\" height=\"400\" frameborder=\"0\"></iframe>\n",
    "          <iframe srcdoc=\"<br><ul>\n",
    "                        <li><h3>a mapping software</h3></li>\n",
    "                        <li><h3>a shapefile</h3></li>\n",
    "                        <li><h3>data: point locations</h3></li>\n",
    "                        <li><h3>data: bounding boxes</h3></li></ul>\" \n",
    "             height=\"400\" frameborder=\"0\"></iframe>\n",
    "         </div>\"\"\".format(fname_boston_rel))\n",
    "\n",
    "# the relative path is needed for IFrame\n",
    "fname_boston_rel = os.path.relpath(os.path.join(dir_html, 'Boston.html'))\n",
    "fname_nyc_rel = os.path.relpath(os.path.join(dir_html, 'New_York_City.html'))\n",
    "fname_kings_rel = os.path.relpath(os.path.join(dir_html, 'Kings_county.html'))"
   ]
  },
  {
   "cell_type": "code",
   "execution_count": 23,
   "metadata": {
    "slideshow": {
     "slide_type": "skip"
    }
   },
   "outputs": [
    {
     "data": {
      "text/html": [
       "<div style=\"text-align:center;background:#c2d3ef;padding:20px;color:#ffffff;font-size:3em;width:98%\"></div>"
      ],
      "text/plain": [
       "<IPython.core.display.HTML object>"
      ]
     },
     "execution_count": 23,
     "metadata": {},
     "output_type": "execute_result"
    }
   ],
   "source": [
    "# @hidden_cell\n",
    "new_section(\"\")"
   ]
  },
  {
   "cell_type": "markdown",
   "metadata": {},
   "source": [
    "<h1> 1 Earth : n Geocoders...  <h1>\n",
    "\n",
    "## Geocoding Explorations with Python  \n",
    "\n",
    "![Earthrise](earthrise_banner.png)\n",
    "\n",
    "---\n",
    "## Cat Chenal, Ph.D.  \n",
    "## Postgres Women NYC, Renee Phillips, organizer, May, 23 2019  "
   ]
  },
  {
   "cell_type": "code",
   "execution_count": 18,
   "metadata": {
    "slideshow": {
     "slide_type": "slide"
    }
   },
   "outputs": [
    {
     "data": {
      "text/html": [
       "\n",
       "        <iframe\n",
       "            width=\"1350\"\n",
       "            height=\"600\"\n",
       "            src=\"..\\GeocodersComparison\\geodata\\html_frames\\Boston.html\"\n",
       "            frameborder=\"0\"\n",
       "            allowfullscreen\n",
       "        ></iframe>\n",
       "        "
      ],
      "text/plain": [
       "<IPython.lib.display.IFrame at 0x2be33d496a0>"
      ]
     },
     "execution_count": 18,
     "metadata": {},
     "output_type": "execute_result"
    }
   ],
   "source": [
    "IFrame(fname_boston_rel, 1350, 600)"
   ]
  },
  {
   "cell_type": "code",
   "execution_count": 7,
   "metadata": {
    "slideshow": {
     "slide_type": "slide"
    }
   },
   "outputs": [
    {
     "data": {
      "text/html": [
       "\n",
       "        <iframe\n",
       "            width=\"1350\"\n",
       "            height=\"600\"\n",
       "            src=\"..\\GeocodersComparison\\geodata\\html_frames\\Kings_county.html\"\n",
       "            frameborder=\"0\"\n",
       "            allowfullscreen\n",
       "        ></iframe>\n",
       "        "
      ],
      "text/plain": [
       "<IPython.lib.display.IFrame at 0x2be31449828>"
      ]
     },
     "execution_count": 7,
     "metadata": {},
     "output_type": "execute_result"
    }
   ],
   "source": [
    "IFrame(fname_kings_rel, 1350, 600)"
   ]
  },
  {
   "cell_type": "code",
   "execution_count": 10,
   "metadata": {
    "slideshow": {
     "slide_type": "slide"
    }
   },
   "outputs": [
    {
     "data": {
      "text/html": [
       "<h1>What's in a map?</h1>\n",
       "        <div float=\"top\" width=\"100%\">\n",
       "          <iframe src=\"..\\GeocodersComparison\\geodata\\html_frames\\Boston.html\" width=\"700\" height=\"400\" frameborder=\"0\"></iframe>\n",
       "          <iframe srcdoc=\"<br><ul>\n",
       "                        <li><h3>a mapping software</h3></li>\n",
       "                        <li><h3>a shapefile</h3></li>\n",
       "                        <li><h3>data: point locations</h3></li>\n",
       "                        <li><h3>data: bounding boxes</h3></li></ul>\" \n",
       "             height=\"400\" frameborder=\"0\"></iframe>\n",
       "         </div>"
      ],
      "text/plain": [
       "<IPython.core.display.HTML object>"
      ]
     },
     "execution_count": 10,
     "metadata": {},
     "output_type": "execute_result"
    }
   ],
   "source": [
    "show_map_components()"
   ]
  },
  {
   "cell_type": "code",
   "execution_count": 164,
   "metadata": {
    "slideshow": {
     "slide_type": "subslide"
    }
   },
   "outputs": [
    {
     "data": {
      "text/html": [
       "<div style=\"text-align:center;background:#c2d3ef;padding:20px;color:#ffffff;font-size:3em;width:98%\"></div>"
      ],
      "text/plain": [
       "<IPython.core.display.HTML object>"
      ]
     },
     "execution_count": 164,
     "metadata": {},
     "output_type": "execute_result"
    }
   ],
   "source": [
    "# @hidden_cell\n",
    "new_section(\"\")"
   ]
  },
  {
   "cell_type": "markdown",
   "metadata": {
    "slideshow": {
     "slide_type": "slide"
    }
   },
   "source": [
    "# MAPPING WITH PYTHON\n",
    "---\n",
    "---\n",
    "| Library        | Description |\n",
    "| :------------- |:------------- |\n",
    "|GDAL|Fundamental package for processing vector and raster data formats (many modules below depend on this)|\n",
    "|Shapely|Manipulation and analysis of planar geometric objects|\n",
    "|**Geopandas**|Pandas + Shapely|\n",
    "|Fiona|alternative for geopandas (shapefile loader)|\n",
    "|**Geopy**|Geocoding library|\n",
    "|Pyproj|Performs cartographic transformations and geodetic computations|\n",
    "|PyCRS|\"for reading, writing, and converting between various common coordinate reference system (CRS) string and data source formats\"|\n",
    "|Pysal|Library of spatial analysis functions written in Python|\n",
    "|**Folium**|Wrapper for Leaflet: beautiful and highly customizable maps|\n",
    "|**OSMnx**|OpenStreetMap street networks| \n",
    "|**Networkx**|Network analysis and routing|\n",
    "|Scipy.spatial|Spatial algorithms and data structures|\n",
    "|Rtree|Spatial indexing for Python for quick spatial lookups|\n",
    "|Cartopy|Wrapper for mpl toolkit Basemap|\n",
    "|**Matplotlib toolkit Basemap**||\n",
    "|GeoViews|Interactive Maps for the web|\n",
    "|Geoplot|High-level geospatial data visualization library for Python|\n",
    "|Dash|Dash is a Python framework for building analytical web applications|\n",
    "|More here:| https://automating-gis-processes.github.io/2017/lessons/L1/Intro-Python-GIS.html|"
   ]
  },
  {
   "cell_type": "markdown",
   "metadata": {
    "slideshow": {
     "slide_type": "slide"
    }
   },
   "source": [
    "# GeoPandas \n",
    "--- \n",
    "## Geopy geocoders available through geopandas: geopandas.tools.geocode &rarr; geopy.geocoders\n",
    "\n",
    "## PostGIS to GeoPandas: geopandas.read_postgis\n",
    "### Docstring:\n",
    ">Returns a GeoDataFrame corresponding to the result of the query  \n",
    ">string, which must contain a geometry column in WKB representation."
   ]
  },
  {
   "cell_type": "markdown",
   "metadata": {
    "slideshow": {
     "slide_type": "slide"
    }
   },
   "source": [
    "# Full-blown Geographic Information System (GIS) applications\n",
    "---\n",
    "## ESRI ArcGIS\n",
    "## QGIS (open source)"
   ]
  },
  {
   "cell_type": "code",
   "execution_count": 163,
   "metadata": {
    "slideshow": {
     "slide_type": "subslide"
    }
   },
   "outputs": [
    {
     "data": {
      "text/html": [
       "<div style=\"text-align:center;background:#c2d3ef;padding:20px;color:#ffffff;font-size:3em;width:98%\"></div>"
      ],
      "text/plain": [
       "<IPython.core.display.HTML object>"
      ]
     },
     "execution_count": 163,
     "metadata": {},
     "output_type": "execute_result"
    }
   ],
   "source": [
    "# @hidden_cell\n",
    "new_section(\"\")"
   ]
  },
  {
   "cell_type": "markdown",
   "metadata": {},
   "source": [
    "# WHAT'S GEOCODING?\n",
    "---\n",
    "---"
   ]
  },
  {
   "cell_type": "markdown",
   "metadata": {},
   "source": [
    "# WHAT'S ENABLING GEOCODING?"
   ]
  },
  {
   "cell_type": "code",
   "execution_count": null,
   "metadata": {},
   "outputs": [],
   "source": []
  }
 ],
 "metadata": {
  "celltoolbar": "Slideshow",
  "kernelspec": {
   "display_name": "Python 3",
   "language": "python",
   "name": "python3"
  },
  "language_info": {
   "codemirror_mode": {
    "name": "ipython",
    "version": 3
   },
   "file_extension": ".py",
   "mimetype": "text/x-python",
   "name": "python",
   "nbconvert_exporter": "python",
   "pygments_lexer": "ipython3",
   "version": "3.6.7"
  },
  "toc": {
   "base_numbering": 1,
   "nav_menu": {},
   "number_sections": true,
   "sideBar": true,
   "skip_h1_title": false,
   "title_cell": "Table of Contents",
   "title_sidebar": "Contents",
   "toc_cell": false,
   "toc_position": {},
   "toc_section_display": true,
   "toc_window_display": false
  }
 },
 "nbformat": 4,
 "nbformat_minor": 2
}
